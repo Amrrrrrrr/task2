{
 "cells": [
  {
   "cell_type": "code",
   "execution_count": 27,
   "id": "425b827f-2a2f-4d71-9bd7-3ac316047742",
   "metadata": {},
   "outputs": [
    {
     "name": "stdin",
     "output_type": "stream",
     "text": [
      "enter string ahmed\n"
     ]
    },
    {
     "name": "stdout",
     "output_type": "stream",
     "text": [
      "5\n"
     ]
    },
    {
     "name": "stdin",
     "output_type": "stream",
     "text": [
      "please enter string amr\n"
     ]
    },
    {
     "name": "stdout",
     "output_type": "stream",
     "text": [
      "Length of the string is: 3\n"
     ]
    }
   ],
   "source": [
    "#**1-Write a Python program to calculate the length of a string using 2 ways\n",
    "name=input(\"enter string\")\n",
    "print(len(name))\n",
    "\n",
    "str=input (\"please enter string\")\n",
    "counter=0\n",
    "for i in str :\n",
    "    counter+=1\n",
    "print(\"Length of the string is:\", counter)\n",
    "\n",
    " \n"
   ]
  },
  {
   "cell_type": "code",
   "execution_count": 42,
   "id": "822b1742-0351-43f4-9fd0-455c7aa09ff9",
   "metadata": {},
   "outputs": [
    {
     "name": "stdin",
     "output_type": "stream",
     "text": [
      "enter a string a\n"
     ]
    },
    {
     "name": "stdout",
     "output_type": "stream",
     "text": [
      " \n"
     ]
    }
   ],
   "source": [
    "#**2-Write a Python program to get a string made of the first 2 and last 2 characters of a given string. If the string length is less than 2, return the empty string instead (\"##Sample String : 'w3resource'\n",
    "\n",
    "str=input('enter a string')\n",
    "if len(str)<2 :\n",
    "    print (\" \")\n",
    "    \n",
    "else:\n",
    "    print(str[0:2]+str[-2]+str[-1])\n",
    "    \n",
    "\n",
    "\n"
   ]
  },
  {
   "cell_type": "code",
   "execution_count": 71,
   "id": "25ad2cd7-f641-41ac-85e5-9e7736875624",
   "metadata": {},
   "outputs": [
    {
     "name": "stdin",
     "output_type": "stream",
     "text": [
      "enter string abcing\n"
     ]
    },
    {
     "name": "stdout",
     "output_type": "stream",
     "text": [
      "abcingly\n"
     ]
    }
   ],
   "source": [
    "#*3-Write a Python program to add 'ing' at the end of a given string (length should be at least 3). If the given string already ends with 'ing', add 'ly' instead. If the string length of the given string is less than 3, leave it unchanged. (Sample String : 'abc'\n",
    "\n",
    "\n",
    "string=input(\"enter string\")\n",
    "if len(string)<3 :\n",
    "    print(string)\n",
    "elif (string.endswith(\"ing\")):\n",
    "    \n",
    "    print((string)+\"ly\")\n",
    "else:\n",
    "    print((string)+\"ing\")\n",
    "\n",
    "\n",
    "\n",
    "\n",
    "\n"
   ]
  },
  {
   "cell_type": "code",
   "execution_count": null,
   "id": "303b0fe1-c9c3-4aa7-af42-d906d67a9787",
   "metadata": {},
   "outputs": [],
   "source": []
  },
  {
   "cell_type": "code",
   "execution_count": 105,
   "id": "81a22966-24d3-4944-9438-3910b170a19c",
   "metadata": {
    "tags": []
   },
   "outputs": [
    {
     "name": "stdout",
     "output_type": "stream",
     "text": [
      "('mhhhhhhhhhhhhhhhhhhhhhhhhhhhhhhh', 32)\n"
     ]
    }
   ],
   "source": [
    "#**4-Write a Python function that takes a list of words and return the longest word and the length of the longest one\n",
    "def returnmax (words):\n",
    "    longestword=\" \"\n",
    "    maxlen=0\n",
    "    for word in words:\n",
    "        if len(word)>maxlen:\n",
    "            longestword=word\n",
    "            maxlen=len(word)\n",
    "            break\n",
    "\n",
    "    return longestword,maxlen\n",
    "maxword=returnmax ([\"mhhhhhhhhhhhhhhhhhhhhhhhhhhhhhhh\",\"kkkkkkkkk\",\"hajashsh\",\"amrmohameeddd\"])\n",
    "\n",
    "print(maxword)\n",
    "\n",
    "\n"
   ]
  },
  {
   "cell_type": "code",
   "execution_count": 119,
   "id": "b649e03f-a142-42ff-9c07-eebdf215ab15",
   "metadata": {},
   "outputs": [
    {
     "name": "stdin",
     "output_type": "stream",
     "text": [
      "enter string hujgyug\n"
     ]
    },
    {
     "name": "stdout",
     "output_type": "stream",
     "text": [
      "gujgyuh\n"
     ]
    }
   ],
   "source": [
    "#**5-Write a Python program to change a given string to a newly string where the first and last chars have been exchanged using 2 ways (Sample String:abca  Expected Result:ebce)\n",
    "\n",
    "string=input ('enter string')\n",
    "print (string [-1]+string[1:-1]+string[0])\n",
    "\n",
    "\n"
   ]
  },
  {
   "cell_type": "code",
   "execution_count": 120,
   "id": "46e801b9-ef96-4fac-83a1-622627517dbe",
   "metadata": {},
   "outputs": [
    {
     "name": "stdin",
     "output_type": "stream",
     "text": [
      " ahmed\n"
     ]
    },
    {
     "data": {
      "text/plain": [
       "'amd'"
      ]
     },
     "execution_count": 120,
     "metadata": {},
     "output_type": "execute_result"
    }
   ],
   "source": [
    "#**6-Write a Python program to remove characters that have odd index values in a given string (Sample String:abca Expected Result:ac)\n",
    "\n",
    "string=input()\n",
    "string [ ::2]\n",
    "\n"
   ]
  },
  {
   "cell_type": "code",
   "execution_count": 123,
   "id": "40b8f3ba-d09d-478a-9401-6d5f683b2025",
   "metadata": {},
   "outputs": [
    {
     "name": "stdout",
     "output_type": "stream",
     "text": [
      "amr 1\n",
      "good 1\n",
      "from 1\n",
      "hi 2\n",
      "i'm 1\n",
      "iam 1\n",
      "bay 1\n",
      "maadi 1\n"
     ]
    }
   ],
   "source": [
    "#**7-Write a Python program to count the occurrences of each word in a given sentence (Sample String:amr and ahmed are frindes but amr is the tallest Expected Result:2)\n",
    "\n",
    "sentence = \"hi iam amr from maadi hi i'm good bay \"\n",
    "words=sentence.split()\n",
    "words =set (words)\n",
    "for word in words :\n",
    "    print (word,sentence.count(word))\n",
    "\n",
    "\n",
    "\n"
   ]
  },
  {
   "cell_type": "code",
   "execution_count": 137,
   "id": "962defb8-9993-4911-a843-78df707977f3",
   "metadata": {},
   "outputs": [
    {
     "name": "stdin",
     "output_type": "stream",
     "text": [
      "enter user name : ahmed\n"
     ]
    },
    {
     "name": "stdout",
     "output_type": "stream",
     "text": [
      "AHMED ahmed\n"
     ]
    }
   ],
   "source": [
    "#**8-Write a Python script that takes input from the user and displays that input back in upper and lower casuse\n",
    "username=input(\"enter user name :\")\n",
    "print ( username.upper() , username.lower())          \n",
    "\n"
   ]
  },
  {
   "cell_type": "code",
   "execution_count": 138,
   "id": "a84d9262-a097-425f-a45f-9fe13eabae9a",
   "metadata": {},
   "outputs": [
    {
     "name": "stdin",
     "output_type": "stream",
     "text": [
      "enter string emad\n"
     ]
    },
    {
     "name": "stdout",
     "output_type": "stream",
     "text": [
      "dame\n"
     ]
    }
   ],
   "source": [
    "#**9-Write a Python function to reverse a string if its length is a multiple o\n",
    "name = input('enter string')\n",
    "if len (name)%4==0:\n",
    "    print(name[::-1])\n",
    "\n"
   ]
  },
  {
   "cell_type": "code",
   "execution_count": 139,
   "id": "0d443a0c-7c98-45f9-9959-7cc1881c04d8",
   "metadata": {},
   "outputs": [
    {
     "data": {
      "text/plain": [
       "'hi azik 3amel ay zy folo'"
      ]
     },
     "execution_count": 139,
     "metadata": {},
     "output_type": "execute_result"
    }
   ],
   "source": [
    "#**10- Write a Python program to remove a newline in Python\n",
    "\n",
    "sentence=\"hi azik 3amel ay\\n zy folo\"\n",
    "name=sentence.replace (\"\\n\",\"\")\n",
    "name\n"
   ]
  },
  {
   "cell_type": "code",
   "execution_count": 152,
   "id": "356ad293-45ad-476c-bad2-6db78cb057e3",
   "metadata": {},
   "outputs": [
    {
     "name": "stdout",
     "output_type": "stream",
     "text": [
      "no\n"
     ]
    }
   ],
   "source": [
    "#**11-Write a Python program to check whether a string starts with specified characters\n",
    "st='d'\n",
    "if \"amr\".startswith(\"st\"):\n",
    "    print('yes')\n",
    "else:\n",
    "    print('no')\n",
    "    \n",
    "\n"
   ]
  },
  {
   "cell_type": "code",
   "execution_count": 155,
   "id": "887109ea-57c5-4e95-bd02-dabfcadf0d13",
   "metadata": {},
   "outputs": [
    {
     "data": {
      "text/plain": [
       "[' ana hi azik 3amel ay', ' ana  zy folo']"
      ]
     },
     "execution_count": 155,
     "metadata": {},
     "output_type": "execute_result"
    }
   ],
   "source": [
    "#**12- Write a Python program to add prefix text to all of the lines in a string\n",
    "\n",
    "sentence=\"hi azik 3amel ay\\n zy folo\"\n",
    "mylist=sentence.split(\"\\n\")\n",
    "for i in range (len (mylist)):\n",
    "    mylist[i]=\" ana \"+mylist[i]\n",
    "mylist\n",
    "\n"
   ]
  },
  {
   "cell_type": "code",
   "execution_count": 156,
   "id": "8fb26a29-fbf2-4b5b-9ed9-7e5929a9b720",
   "metadata": {},
   "outputs": [
    {
     "data": {
      "text/plain": [
       "2.15"
      ]
     },
     "execution_count": 156,
     "metadata": {},
     "output_type": "execute_result"
    }
   ],
   "source": [
    "#**13-Write a Python program to print the following numbers up to 2 decimal places\n",
    "round (2.1484848,2)\n",
    "\n"
   ]
  },
  {
   "cell_type": "code",
   "execution_count": 158,
   "id": "88d4ad9b-663a-4330-9449-bc6389f747cd",
   "metadata": {},
   "outputs": [
    {
     "name": "stdin",
     "output_type": "stream",
     "text": [
      " 2.5548\n"
     ]
    },
    {
     "name": "stdout",
     "output_type": "stream",
     "text": [
      "+ 2.55\n"
     ]
    }
   ],
   "source": [
    "#**14-Write a Python program to print the following numbers up to 2 decimal places with a sign\n",
    "num=float(input())\n",
    "if num >0:\n",
    "    \n",
    "    print(\"+\", round(num,2))\n",
    "else:\n",
    "    print(\"-\", round(num,2))\n",
    "    \n"
   ]
  },
  {
   "cell_type": "code",
   "execution_count": 178,
   "id": "c75d365b-13cc-4733-baee-414e3b7544e4",
   "metadata": {},
   "outputs": [
    {
     "name": "stdout",
     "output_type": "stream",
     "text": [
      "12,345,678,901\n"
     ]
    }
   ],
   "source": [
    "#**15-Write a Python program to display a number with a comma separator\n",
    "number = 12345678901\n",
    "formatted_number = format(number, \",\")\n",
    "print(formatted_number)"
   ]
  },
  {
   "cell_type": "code",
   "execution_count": 188,
   "id": "9b1580b3-4d56-4cb1-8e16-282b47f00ddf",
   "metadata": {},
   "outputs": [
    {
     "name": "stdout",
     "output_type": "stream",
     "text": [
      "demha\n",
      "demha"
     ]
    }
   ],
   "source": [
    "#**16-Write a Python program to reverse a string using 2 ways\n",
    "string=\"ahmed\"\n",
    "print (string[::-1])\n",
    "for i in range(len(string)-1,-1,-1):\n",
    "    print (string[i],end=\"\")\n",
    "\n"
   ]
  },
  {
   "cell_type": "code",
   "execution_count": 191,
   "id": "8aecf0db-a3a9-41ad-a6c6-d6c67e3d213e",
   "metadata": {},
   "outputs": [
    {
     "data": {
      "text/plain": [
       "{' ': 4, 'h': 1, 'i': 5, 'a': 5, 'n': 1, 'm': 1, 'r': 2, 'z': 1, 'k': 2}"
      ]
     },
     "execution_count": 191,
     "metadata": {},
     "output_type": "execute_result"
    }
   ],
   "source": [
    "# **17-Write a Python program to count repeated characters in a string (hint:use dictionary)\n",
    "string=\" hiiii ana amrr azaikk\"\n",
    "d=dict()\n",
    "for i in string:\n",
    "    d[i]=0\n",
    "for i in d:\n",
    "    d[i]=string.count(i)\n",
    "\n",
    "d"
   ]
  },
  {
   "cell_type": "code",
   "execution_count": 192,
   "id": "987f3b97-d50e-4cac-b21d-f6ab8b45118e",
   "metadata": {},
   "outputs": [
    {
     "name": "stdout",
     "output_type": "stream",
     "text": [
      "h\n"
     ]
    }
   ],
   "source": [
    "# **18-Write a Python program to find the first non-repeating character in a given string\n",
    "\n",
    "string=\" hiiii ana Aamrr azaikk\"\n",
    "for i in string:\n",
    "    if string.count (i)==1:\n",
    "        print(i)\n",
    "        break\n",
    "\n"
   ]
  },
  {
   "cell_type": "code",
   "execution_count": 197,
   "id": "936a73ce-0c06-4185-b123-e86777366a4b",
   "metadata": {},
   "outputs": [
    {
     "data": {
      "text/plain": [
       "'hiazik3amelayzyfolo'"
      ]
     },
     "execution_count": 197,
     "metadata": {},
     "output_type": "execute_result"
    }
   ],
   "source": [
    "# **19-Write a Python program to remove spaces from a given string\n",
    "sentence=\"hi azik 3amel ay zy folo\"\n",
    "name=sentence.replace (\" \",\"\")\n",
    "name"
   ]
  },
  {
   "cell_type": "code",
   "execution_count": 2,
   "id": "3e241863-1d49-43a0-9879-7416d5c54cfb",
   "metadata": {},
   "outputs": [
    {
     "name": "stdin",
     "output_type": "stream",
     "text": [
      " amr\n"
     ]
    },
    {
     "data": {
      "text/plain": [
       "6.0"
      ]
     },
     "execution_count": 2,
     "metadata": {},
     "output_type": "execute_result"
    }
   ],
   "source": [
    "#**20-Write a Python program to count the number of non-empty substrings of a given string\n",
    "string=input()\n",
    "numbofsub=(len(string)*(len(string)+1))/2\n",
    "numbofsub\n",
    "\n"
   ]
  },
  {
   "cell_type": "code",
   "execution_count": 13,
   "id": "28f1f0b8-6da6-40bd-a3d6-8539850f41d0",
   "metadata": {},
   "outputs": [
    {
     "data": {
      "text/plain": [
       "[6, 2, 3, 4, 5, 1]"
      ]
     },
     "execution_count": 13,
     "metadata": {},
     "output_type": "execute_result"
    }
   ],
   "source": [
    "#**21-write a Python program to swap first and last element of any list.\n",
    "\n",
    "mylist=[1,2,3,4,5,6]\n",
    "temp = mylist[0]\n",
    "mylist[0] = mylist[-1]\n",
    "mylist[-1] = temp\n",
    "mylist\n"
   ]
  },
  {
   "cell_type": "code",
   "execution_count": 38,
   "id": "e3bb7572-bce4-4823-9ef4-d23db6fc92a1",
   "metadata": {
    "tags": []
   },
   "outputs": [
    {
     "data": {
      "text/plain": [
       "[1, 4, 3, 2, 5]"
      ]
     },
     "execution_count": 38,
     "metadata": {},
     "output_type": "execute_result"
    }
   ],
   "source": [
    "#**22-Given a list in Python and provided the positions of the elements, write a program to swap the two elements in the list. (Input : List = [23, 65, 19, 90], pos1 = 1, pos2 = 3\n",
    "#Output : [19, 65, 23, 90])\n",
    "l= [1,2,3,4,5]\n",
    "pos1=1\n",
    "pos2=3\n",
    "l[pos1],l[pos2]=l[pos2],l[pos1]\n",
    "l\n"
   ]
  },
  {
   "cell_type": "code",
   "execution_count": 31,
   "id": "53b6303b-63c2-476c-a4d0-9fa79d56419e",
   "metadata": {
    "tags": []
   },
   "outputs": [
    {
     "name": "stdout",
     "output_type": "stream",
     "text": [
      "length is  6\n",
      "7\n"
     ]
    }
   ],
   "source": [
    "#**23- search for the all ways to know the length of the list\n",
    "mylist=[1,2,3,4,5,6]\n",
    "print (\"length is \",len(mylist))\n",
    "c=0\n",
    "mylist2=[1,2,3,4,5,6,7]\n",
    "for i in mylist2 :\n",
    "    c=c+1\n",
    "print( str(i))\n"
   ]
  },
  {
   "cell_type": "code",
   "execution_count": 39,
   "id": "7d3f7e01-0248-4ca5-81c8-3c4a0c0ea776",
   "metadata": {
    "tags": []
   },
   "outputs": [
    {
     "name": "stdout",
     "output_type": "stream",
     "text": [
      "7\n"
     ]
    }
   ],
   "source": [
    "#**24-write a Python code to find the Maximum number of list of numbers.\n",
    "\n",
    "l=[1,2,3,4,5,6,7]\n",
    "print(max(l))"
   ]
  },
  {
   "cell_type": "code",
   "execution_count": 40,
   "id": "4dd4fc0c-3b68-48f4-9956-866da17c4872",
   "metadata": {
    "tags": []
   },
   "outputs": [
    {
     "name": "stdout",
     "output_type": "stream",
     "text": [
      "1\n"
     ]
    }
   ],
   "source": [
    "#**25-write a Python code to find the Minimum number of list of numbers.\n",
    "l=[1,2,3,4,5,6,7]\n",
    "print(min(l))\n"
   ]
  },
  {
   "cell_type": "code",
   "execution_count": 42,
   "id": "3f5b1797-9f2d-406c-b312-b118ae0ad0b2",
   "metadata": {
    "tags": []
   },
   "outputs": [
    {
     "name": "stdout",
     "output_type": "stream",
     "text": [
      "flase\n"
     ]
    }
   ],
   "source": [
    "#**26-search for if an elem is existing in list\n",
    "l=[1,2,3,4,5,6,7]\n",
    "if 8 in l:\n",
    "    print(\"true\")\n",
    "else:\n",
    "    print(\"flase\")\n"
   ]
  },
  {
   "cell_type": "code",
   "execution_count": 44,
   "id": "3246f5d3-85cc-4781-9e8f-ca61bf3b28f1",
   "metadata": {
    "tags": []
   },
   "outputs": [
    {
     "data": {
      "text/plain": [
       "[]"
      ]
     },
     "execution_count": 44,
     "metadata": {},
     "output_type": "execute_result"
    }
   ],
   "source": [
    "#**27- clear python list using different ways\n",
    "\n",
    "l=[1,2,3,4,5,6,7]\n",
    "l=[]\n",
    "l.clear()\n",
    "l"
   ]
  },
  {
   "cell_type": "code",
   "execution_count": 46,
   "id": "9f250c17-f323-445e-8aed-0b1bbe4d3aa8",
   "metadata": {
    "tags": []
   },
   "outputs": [
    {
     "name": "stdout",
     "output_type": "stream",
     "text": [
      "[1, 2, 3, 4, 5, 6]\n"
     ]
    }
   ],
   "source": [
    "#**28-remove duplicated elements from a list\n",
    "l=[1,2,3,4,5,6,7,1]\n",
    "l = list(dict.fromkeys(mylist))\n",
    "print(l)\n",
    "\n"
   ]
  },
  {
   "cell_type": "code",
   "execution_count": 47,
   "id": "728e5484-f3c4-4663-b8ea-6ba37409270c",
   "metadata": {
    "tags": []
   },
   "outputs": [
    {
     "name": "stdout",
     "output_type": "stream",
     "text": [
      "The constructed dictionary list : [{'name': 'Gfg', 'number': 3}, {'name': 'is', 'number': 8}, {'name': 'Best', 'number': 10}, {'name': 'for', 'number': 18}, {'name': 'Geeks', 'number': 33}]\n"
     ]
    }
   ],
   "source": [
    "#**29-Given list values and keys list, convert these values to key value pairs in form of list of dictionaries. (Input : test_list = [“Gfg”, 3, “is”, 8], key_list = [“name”, “id”] Output : [{‘name’: ‘Gfg’, ‘id’: 3}, {‘name’: ‘is’, ‘id’: 8}])\n",
    "test_list = [\"Gfg\", 3, \"is\", 8, \"Best\", 10, \"for\", 18, \"Geeks\", 33]\n",
    "key_list = [\"name\", \"number\"]\n",
    " \n",
    "result = [{key_list[i]: val for i, val in enumerate(pair)} for pair in zip(test_list[::2], test_list[1::2])]\n",
    " \n",
    "# printing result \n",
    "print(\"The constructed dictionary list : \" + str(result))\n",
    "\n",
    "\n",
    "\n",
    "\n"
   ]
  },
  {
   "cell_type": "code",
   "execution_count": 54,
   "id": "d46a886f-a582-4e62-8be6-4777780761b4",
   "metadata": {
    "tags": []
   },
   "outputs": [
    {
     "name": "stdout",
     "output_type": "stream",
     "text": [
      "4\n",
      "3\n"
     ]
    }
   ],
   "source": [
    "#:**30-write a python program to count unique values inside a list using different ways\n",
    "l=[1,2,2,3,4]\n",
    "print(len(set(l)))\n",
    "from collections import Counter\n",
    "l2=['a','b','v','a','v']\n",
    "num_values = len(Counter(l2).keys())\n",
    "print(num_values)\n"
   ]
  },
  {
   "cell_type": "code",
   "execution_count": 61,
   "id": "0501ffe3-8120-4215-a774-78a980a126b2",
   "metadata": {
    "tags": []
   },
   "outputs": [
    {
     "data": {
      "text/plain": [
       "[3, 4]"
      ]
     },
     "execution_count": 61,
     "metadata": {},
     "output_type": "execute_result"
    }
   ],
   "source": [
    "#**31-write a python program Extract all elements with Frequency greater than K (Input : test_list = [4, 6, 4, 3, 3, 4, 3, 4, 3, 8], K = 3 Output : [4, 3] )\n",
    "a = [4, 6, 4, 3, 3, 4, 3, 4, 3, 8]\n",
    "k = 3\n",
    "out =  [i for i in set(a) if a.count(i) > k]\n",
    "out\n",
    "\n"
   ]
  },
  {
   "cell_type": "code",
   "execution_count": 65,
   "id": "493b7302-6cc9-4f76-bc95-cc045f32f662",
   "metadata": {
    "tags": []
   },
   "outputs": [
    {
     "name": "stdout",
     "output_type": "stream",
     "text": [
      "2 2 3 4 5 "
     ]
    }
   ],
   "source": [
    "#**32-write a python program to find the Strongest Neighbour (Input: 1 2 2 3 4 5 Output: 2 2 3 4 5)\n",
    "\n",
    "n = 6\n",
    "a1 = [1,2,2,3,4,5]\n",
    "a2 = []\n",
    "for i in range(1, 6):\n",
    "    ru = max(a1[i], a1[i-1])\n",
    "    a2.append(ru)\n",
    "for i in a2 :\n",
    "    print(i,end=\" \")"
   ]
  },
  {
   "cell_type": "code",
   "execution_count": 84,
   "id": "3eeef267-be7c-493b-8c43-3ef0328149d0",
   "metadata": {
    "tags": []
   },
   "outputs": [
    {
     "name": "stdin",
     "output_type": "stream",
     "text": [
      "Enter the first number... 1\n",
      "Enter the second number... 5\n",
      "Enter the third number... 6\n"
     ]
    },
    {
     "name": "stdout",
     "output_type": "stream",
     "text": [
      "1 5 6\n",
      "1 6 5\n",
      "5 1 6\n",
      "5 6 1\n",
      "6 1 5\n",
      "6 5 1\n"
     ]
    }
   ],
   "source": [
    "#**33-write a Python Program to print all Possible Combinations from the three Digits (Input: [1, 2, 3] Output: 1 2 3 ## 1 3 2 ## 2 1 3 ## 2 3 1 ## 3 1 2 ## 3 2 1)\n",
    "first_num = int(input(\"Enter the first number...\")) \n",
    "second_num = int(input(\"Enter the second number...\"))\n",
    "third_num = int(input(\"Enter the third number...\"))\n",
    "mylist = []\n",
    "mylist.append(first_num),mylist.append(second_num),mylist.append(third_num)\n",
    "\n",
    "for i in range(0,3):\n",
    "   for j in range(0,3):\n",
    "      for k in range(0,3):\n",
    "         if(i!=j and j!=k and k!=i):\n",
    "            print(mylist[i],mylist[j],mylist[k])\n"
   ]
  },
  {
   "cell_type": "code",
   "execution_count": null,
   "id": "073016d3-8d8e-454a-bd49-654c8f2c1654",
   "metadata": {},
   "outputs": [],
   "source": [
    "#**34-write a Python program to find all the Combinations in the list with the given condition (Input: test_list = [1,2,3] \n",
    "#Output:  ([1], [1, 2], [1, 2, 3], [1, 3] [2], [2, 3], [3])\n",
    "l=[1,2,3]\n",
    "# idont know answer\n",
    "\n",
    "\n"
   ]
  },
  {
   "cell_type": "code",
   "execution_count": 89,
   "id": "63780e06-21c5-4b63-a2cf-495612a80555",
   "metadata": {
    "tags": []
   },
   "outputs": [
    {
     "name": "stdout",
     "output_type": "stream",
     "text": [
      "[('a', 1), ('a', 2), ('b', 1), ('b', 2)]\n"
     ]
    }
   ],
   "source": [
    "#**35-write a Python program to get all unique combinations of two Lists (List_1 = [\"a\",\"b\"]List_2 = [1,2]\n",
    "#Unique_combination = [[('a',1),('b',2)],[('a',2),('b',1)]] )\n",
    "\n",
    "list1 = [\"a\", \"b\"]\n",
    "list2 = [1, 2]\n",
    " \n",
    "unique_combinations = []\n",
    " \n",
    "for i in range(len(list1)):\n",
    "    for j in range(len(list2)):\n",
    "        unique_combinations.append((list1[i], list2[j]))\n",
    " \n",
    "print(unique_combinations)\n"
   ]
  },
  {
   "cell_type": "code",
   "execution_count": 125,
   "id": "6e8b9a02-7c57-4d8f-9e50-65c872687052",
   "metadata": {
    "tags": []
   },
   "outputs": [
    {
     "name": "stdout",
     "output_type": "stream",
     "text": [
      "{1, 2, 3, 4, 5}\n"
     ]
    }
   ],
   "source": [
    "#**36-Remove all the occurrences of an element from a list in Python (Input : 1 1 2 3 4 5 1 2 1**Output : 2 3 4 5 2)\n",
    "l=[1,1,2,3,4,5,1,2]\n",
    "print(set(l))\n"
   ]
  },
  {
   "cell_type": "code",
   "execution_count": 116,
   "id": "241a2b62-1e7f-451b-8a52-30c48d5aa563",
   "metadata": {
    "tags": []
   },
   "outputs": [
    {
     "name": "stdout",
     "output_type": "stream",
     "text": [
      "org list1 is : ['Gfg', 'is', 'best']\n",
      "org list2 is : [0, 1, 2, 1, 0, 0, 0, 2, 1, 1, 2, 0]\n",
      "list after index['Gfg', 'is', 'best', 'is', 'Gfg', 'Gfg', 'Gfg', 'best', 'is', 'is', 'best', 'Gfg']\n"
     ]
    }
   ],
   "source": [
    "#**37-write a python program to Replace index elements with elements in Other List (The original list 1 is : [‘Gfg’, ‘is’, ‘best’] The original list 2 is : [0, 1, 2, 1, 0, 0, 0, 2, 1, 1, 2, 0] The lists after index elements replacements is : [‘Gfg’, ‘is’, ‘best’, ‘is’, ‘Gfg’, ‘Gfg’, ‘Gfg’, ‘best’, ‘is’, ‘is’, ‘best’, ‘Gfg’])\n",
    "l1=['Gfg', 'is', 'best']\n",
    "l2= [0, 1, 2, 1, 0, 0, 0, 2, 1, 1, 2, 0] \n",
    "print(f\"org list1 is : {str(l1)}\")\n",
    "print(f\"org list2 is : {str(l2)}\")\n",
    "\n",
    "resu = [l1[i] for i in l2]\n",
    "print (\"list after index\"+str(resu))\n"
   ]
  },
  {
   "cell_type": "code",
   "execution_count": 122,
   "id": "74ef045e-2545-4dcc-8b60-79bd80e8633c",
   "metadata": {
    "tags": []
   },
   "outputs": [
    {
     "name": "stdout",
     "output_type": "stream",
     "text": [
      "[(4, 5, 5, 4)]\n"
     ]
    }
   ],
   "source": [
    "#**38- write python program to Retain records with N occurrences of K(Input : test_list = [(4, 5, 5, 4), (5, 4, 3)], K = 5, N = 2 Output : [(4, 5, 5, 4)] Input : test_list = [(4, 5, 5, 4), (5, 4, 3)], K = 5, N = 3 Output : [] )\n",
    "test_list = [(4, 5, 5 ,4), (5, 4, 3)]\n",
    "k=5\n",
    "n=2\n",
    "res = [i for i in test_list if sum(cnt ==k for cnt in i) == n]\n",
    "print(res)\n",
    "\n"
   ]
  },
  {
   "cell_type": "code",
   "execution_count": null,
   "id": "5af71444-cb79-4a1d-8da3-7e498a4bb5e7",
   "metadata": {},
   "outputs": [],
   "source": [
    "#**39-write a Python Program to Sort the list according to the column using lambda array = [[1, 3, 3], [2, 1, 2], [3, 2, 1]] Output : Sorted array specific to column 0, [[1, 3, 3], [2, 1, 2], [3, 2, 1]] Sorted array specific to column 1, [[2, 1, 2], [3, 2, 1], [1, 3, 3]] Sorted array specific to column 2, [[3, 2, 1], [2, 1, 2], [1, 3, 3]]\n",
    "\n",
    "\n"
   ]
  },
  {
   "cell_type": "code",
   "execution_count": 124,
   "id": "09b9de69-555b-4eef-81f8-030b43aaff83",
   "metadata": {
    "tags": []
   },
   "outputs": [
    {
     "name": "stdout",
     "output_type": "stream",
     "text": [
      "[3, 4, 6]\n"
     ]
    }
   ],
   "source": [
    "#**40- write a program to Sort Python Dictionaries by Key or Value\n",
    "#:{'ravi': 10, 'rajnish': 9, 'sanjeev': 15, 'yash': 2, 'suraj': 32}\n",
    "#Output: {'rajnish': 9, 'ravi': 10, 'sanjeev': 15, 'suraj': 32, 'yash': 2}\n",
    "dicc = {\"d\":4, \"b\":6, \"a\":3}\n",
    "\n",
    "sorted_dt_value = sorted(dicc.values())\n",
    "print(sorted_dt_value)\n",
    "\n",
    "\n"
   ]
  },
  {
   "cell_type": "code",
   "execution_count": 136,
   "id": "b1d36893-d8cc-4fba-8032-079dc8fc0a18",
   "metadata": {
    "tags": []
   },
   "outputs": [
    {
     "name": "stdout",
     "output_type": "stream",
     "text": [
      "{'Gfg': 3, 'is': 7, 'for': 6, 'geeks': 'CS'}\n"
     ]
    }
   ],
   "source": [
    "#*41-write python program to Remove keys with Values Greater than K ( Including mixed values ) nput : test_dict = {‘Gfg’ : 3, ‘is’ : 7, ‘best’ : 10, ‘for’ : 6, ‘geeks’ : ‘CS’}, K = 7 Output : {‘Gfg’ : 3, ‘for’ : 6, ‘geeks’ : ‘CS’}\n",
    "test_dict = {\"Gfg\": 3, \"is\": 7, \"best\": 10, \"for\": 6, \"geeks\": \"CS\"}\n",
    "k = 7\n",
    "res = {}\n",
    "\n",
    "for key in test_dict:\n",
    "    if not (isinstance(test_dict[key], int) and test_dict[key] > k):\n",
    "        res[key] = test_dict[key]\n",
    "\n",
    "print(res)\n",
    "\n",
    "\n",
    "\n"
   ]
  },
  {
   "cell_type": "code",
   "execution_count": 143,
   "id": "c1d08d0d-0811-428e-8f14-1548438de26e",
   "metadata": {
    "tags": []
   },
   "outputs": [
    {
     "name": "stdout",
     "output_type": "stream",
     "text": [
      "{1: 10, 2: 20, 3: 30, 4: 40, 5: 50, 6: 60}\n"
     ]
    }
   ],
   "source": [
    "#**42-Write a Python program to concatenate the following dictionaries to create a new one\n",
    "\n",
    "#Sample Dictionary : dic1={1:10, 2:20} dic2={3:30, 4:40} dic3={5:50,6:60} Expected Result : {1: 10, 2: 20, 3: 30, 4: 40, 5: 50, 6: 60} d1={1:10, 2:20}\n",
    "d1={1:10, 2:20}\n",
    "d2={3:30, 4:40}\n",
    "d3={5:50,6:60}\n",
    "d4={}\n",
    "for i in (d1,d2,d3):\n",
    "    d4.update(i)\n",
    "print(d4)\n"
   ]
  },
  {
   "cell_type": "code",
   "execution_count": 154,
   "id": "31f97b7d-3d5c-4587-b206-cc96c78b4b3c",
   "metadata": {
    "tags": []
   },
   "outputs": [
    {
     "name": "stdout",
     "output_type": "stream",
     "text": [
      "19\n",
      "chetos\n",
      "alahly\n"
     ]
    }
   ],
   "source": [
    "#*43-Write a Python program to iterate over dictionaries using for loops\n",
    "d={\"age\":19,\"name\":'chetos','club':\"alahly\"}\n",
    "for key in d.keys():\n",
    "        print(d[key])"
   ]
  },
  {
   "cell_type": "code",
   "execution_count": 157,
   "id": "2a2f7178-cb1c-4de2-8fae-87ae97f00260",
   "metadata": {
    "tags": []
   },
   "outputs": [
    {
     "name": "stdout",
     "output_type": "stream",
     "text": [
      "{1: 'a', 2: 'c', 4: 'd'}\n"
     ]
    }
   ],
   "source": [
    "#**44- Write a Python script to merge two Python dictionaries\n",
    "dict_1 = {1:'a',2:'b'}\n",
    "dict_2 = {2:'c',4:'d'}\n",
    "print(dict_1|dict_2)"
   ]
  },
  {
   "cell_type": "code",
   "execution_count": 169,
   "id": "02fb8955-6333-427e-9a6a-6d9b8ee5f615",
   "metadata": {
    "tags": []
   },
   "outputs": [
    {
     "name": "stdout",
     "output_type": "stream",
     "text": [
      "2\n"
     ]
    },
    {
     "data": {
      "text/plain": [
       "1"
      ]
     },
     "execution_count": 169,
     "metadata": {},
     "output_type": "execute_result"
    }
   ],
   "source": [
    "#**45-Write a Python program to get the maximum and minimum values of a dictionary values\n",
    "d= {1:'a',2:'b'}\n",
    "key_max = max(d.keys())\n",
    "print(key_max)\n",
    "key_min = min(d.keys())\n",
    "key_min"
   ]
  },
  {
   "cell_type": "code",
   "execution_count": 174,
   "id": "6154086f-5c7f-4b71-bb3f-a213fe2de4fe",
   "metadata": {
    "tags": []
   },
   "outputs": [
    {
     "name": "stdout",
     "output_type": "stream",
     "text": [
      "Original Dictionary: {'c1': 'Red', 'c2': 'Green', 'c3': None}\n",
      "New Dictionary : {'c1': 'Red', 'c2': 'Green'}\n"
     ]
    }
   ],
   "source": [
    "#**46- Write a Python program to drop empty items from a given dictionary. Original Dictionary: {'c1': 'Red', 'c2': 'Green', 'c3': None} New Dictionary after dropping empty items: {'c1': 'Red', 'c2': 'Green'}\n",
    "color = {'c1': 'Red', 'c2': 'Green', 'c3': None}\n",
    "print(\"Original Dictionary:\",color)\n",
    "color = {key:value for (key, value) in color.items() if value is not None}\n",
    "print(\"New Dictionary :\",color)"
   ]
  },
  {
   "cell_type": "code",
   "execution_count": 178,
   "id": "fdba8ddd-3172-470d-9a08-33775c78bce3",
   "metadata": {
    "tags": []
   },
   "outputs": [
    {
     "name": "stdout",
     "output_type": "stream",
     "text": [
      "(1, 2, 3, 4, 5, 6)\n",
      "2\n"
     ]
    }
   ],
   "source": [
    "#**47-Write a Python program to create a tuple of numbers and print one item\n",
    "t=1,2,3,4,5,6\n",
    "print(t)\n",
    "print(t[1])"
   ]
  },
  {
   "cell_type": "code",
   "execution_count": 191,
   "id": "ffc57a5e-9646-48c5-a99f-cd8668d0070c",
   "metadata": {
    "tags": []
   },
   "outputs": [
    {
     "name": "stdout",
     "output_type": "stream",
     "text": [
      "\t 4 \n",
      "\t 8 \n",
      "\t 16 \n"
     ]
    }
   ],
   "source": [
    "#**48-Write a Python program to unpack a tuple into several variables\n",
    "t=4,8,16\n",
    "n1,n2,n3=t\n",
    "print(f\"\\t {n1} \\n\\t {n2} \\n\\t {n3} \")\n"
   ]
  },
  {
   "cell_type": "code",
   "execution_count": 192,
   "id": "05179e8e-4098-4839-8490-926a3e2b10bf",
   "metadata": {
    "tags": []
   },
   "outputs": [
    {
     "data": {
      "text/plain": [
       "(1, 2, 3, 5, 6)"
      ]
     },
     "execution_count": 192,
     "metadata": {},
     "output_type": "execute_result"
    }
   ],
   "source": [
    "#**49-Write a Python program to add an item to a tuple\n",
    "t=1,2,3,5\n",
    "t=t+(6,)\n",
    "t"
   ]
  },
  {
   "cell_type": "code",
   "execution_count": 203,
   "id": "bdb916da-b1aa-4182-8c28-419f822124fd",
   "metadata": {
    "tags": []
   },
   "outputs": [
    {
     "data": {
      "text/plain": [
       "'amr'"
      ]
     },
     "execution_count": 203,
     "metadata": {},
     "output_type": "execute_result"
    }
   ],
   "source": [
    "#*50-Write a Python program to convert a tuple to a string\n",
    "t=(\"a\",'m','r')\n",
    "str =\"\".join(t)\n",
    "str"
   ]
  },
  {
   "cell_type": "code",
   "execution_count": 196,
   "id": "b6758d88-4e72-487a-afda-e244a8b2d5f2",
   "metadata": {
    "tags": []
   },
   "outputs": [
    {
     "name": "stdout",
     "output_type": "stream",
     "text": [
      "(1, 2, 3, 4, 5)\n"
     ]
    }
   ],
   "source": [
    "#**51-Write a Python program to convert a list to a tuple\n",
    "list1=[1,2,3,4,5]\n",
    "t=tuple(list1)\n",
    "print(t)\n"
   ]
  },
  {
   "cell_type": "code",
   "execution_count": 206,
   "id": "b7e12e10-4a7c-445f-9505-af1112d41413",
   "metadata": {
    "tags": []
   },
   "outputs": [
    {
     "data": {
      "text/plain": [
       "(5, 4, 3, 2, 1)"
      ]
     },
     "execution_count": 206,
     "metadata": {},
     "output_type": "execute_result"
    }
   ],
   "source": [
    "#**52-Write a Python program to reverse a tuple\n",
    "t=(1,2,3,4,5)\n",
    "newt=t[::-1]\n",
    "newt\n"
   ]
  },
  {
   "cell_type": "code",
   "execution_count": 213,
   "id": "e220d46f-4a26-451c-b1e2-3d9361ba33f8",
   "metadata": {
    "tags": []
   },
   "outputs": [
    {
     "name": "stdout",
     "output_type": "stream",
     "text": [
      "[(10, 20, 100), (40, 50, 100), (70, 80, 100)]\n"
     ]
    }
   ],
   "source": [
    "#53-Write a Python program to replace the last value of tuples in a list. Sample list: Expected Output: [(10, 20, 100), (40, 50, 100), (70, 80, 100)]\n",
    "t1=[(10, 20, 40), (40, 50, 60), (70, 80, 90)]\n",
    "print([t[:-1] + (100,) for t in t1])"
   ]
  },
  {
   "cell_type": "code",
   "execution_count": 215,
   "id": "0ce48965-a101-40d5-9ec4-87cd29f4bca2",
   "metadata": {
    "tags": []
   },
   "outputs": [
    {
     "data": {
      "text/plain": [
       "('p', 'y', 't', 'h', 'o', 'n', ' ', '3', '.', '0')"
      ]
     },
     "execution_count": 215,
     "metadata": {},
     "output_type": "execute_result"
    }
   ],
   "source": [
    "#54-Write a Python program to convert a given string list to a tuple Original string: python 3.0 <class 'str'> Convert the said string to a tuple: ('p', 'y', 't', 'h', 'o', 'n', '3', '.', '0')\n",
    "def convert_string(s):\n",
    "    return tuple([char for char in st])\n",
    "st= \"python 3.0\"\n",
    "convert_string(s)\n"
   ]
  },
  {
   "cell_type": "code",
   "execution_count": 218,
   "id": "f5cff94f-3ebe-44b9-8cf3-20cb0c152c88",
   "metadata": {
    "tags": []
   },
   "outputs": [
    {
     "data": {
      "text/plain": [
       "3"
      ]
     },
     "execution_count": 218,
     "metadata": {},
     "output_type": "execute_result"
    }
   ],
   "source": [
    "#55-Write a Python program to calculate the average value of the numbers in a given tuple of tuples\n",
    "t=1,2,3,4,5\n",
    "avg=sum(t)/len(t)\n",
    "int(avg)\n"
   ]
  },
  {
   "cell_type": "code",
   "execution_count": 220,
   "id": "09d1b178-ce95-43e9-9aef-365eb37cdd05",
   "metadata": {
    "tags": []
   },
   "outputs": [
    {
     "data": {
      "text/plain": [
       "{1, 2, 3, 4, 5, 6}"
      ]
     },
     "execution_count": 220,
     "metadata": {},
     "output_type": "execute_result"
    }
   ],
   "source": [
    "#56-Write a Python program to add member(s) to a set.\n",
    "s={1,2,3,4,5}\n",
    "s.add(6,)\n",
    "s"
   ]
  },
  {
   "cell_type": "code",
   "execution_count": 224,
   "id": "ca16df46-d707-4ceb-9fb8-6604b91ae5d1",
   "metadata": {
    "tags": []
   },
   "outputs": [
    {
     "data": {
      "text/plain": [
       "{1, 2, 3, 4}"
      ]
     },
     "execution_count": 224,
     "metadata": {},
     "output_type": "execute_result"
    }
   ],
   "source": [
    "#**57-Write a Python program to remove an item from a set if it is present in the set.\n",
    "s={1,2,3,4,5}\n",
    "s.remove(5)\n",
    "s\n"
   ]
  },
  {
   "cell_type": "code",
   "execution_count": 227,
   "id": "8745d234-b776-4938-9e53-a981f1354be0",
   "metadata": {
    "tags": []
   },
   "outputs": [
    {
     "name": "stdout",
     "output_type": "stream",
     "text": [
      "{0, 1, 2, 3, 4, 5, 6, 7, 8}\n",
      "{2, 4}\n",
      "{1, 3, 5}\n",
      "{0, 1, 3, 5, 6, 7, 8}\n"
     ]
    }
   ],
   "source": [
    "#**58-Write a Python program to create an intersection,union,difference and symmetric difference of sets\n",
    "B = {0, 2, 4, 6, 8,7}\n",
    "A = {1, 2, 3, 4, 5}\n",
    "print( A | B)\n",
    "print( A & B)\n",
    "print( A - B)\n",
    "print( A ^ B)\n"
   ]
  },
  {
   "cell_type": "code",
   "execution_count": 228,
   "id": "93b767ca-5437-4dee-85f4-322645ecc51a",
   "metadata": {
    "tags": []
   },
   "outputs": [
    {
     "name": "stdout",
     "output_type": "stream",
     "text": [
      "5\n",
      "1\n"
     ]
    }
   ],
   "source": [
    "#**59-Write a Python program to find the maximum and minimum values in a set\n",
    "s= {1, 2, 3, 4, 5}\n",
    "print(max(s))\n",
    "print (min(s))\n"
   ]
  },
  {
   "cell_type": "code",
   "execution_count": 249,
   "id": "c877c4ea-e3a6-4341-8df4-6f55e7e92297",
   "metadata": {
    "tags": []
   },
   "outputs": [
    {
     "name": "stdout",
     "output_type": "stream",
     "text": [
      "[1, 1]\n",
      "[1, 2]\n",
      "[1, 3]\n",
      "[1, 4]\n",
      "[2, 1]\n",
      "[2, 2]\n",
      "[2, 3]\n",
      "[2, 4]\n",
      "[3, 1]\n",
      "[3, 2]\n",
      "[3, 3]\n",
      "[3, 4]\n",
      "[4, 1]\n",
      "[4, 2]\n",
      "[4, 3]\n",
      "[4, 4]\n"
     ]
    }
   ],
   "source": [
    "#**60- Write a Python program that finds all pairs of elements in a list whose sum is equal to a given value.\n",
    "my_list = [1,2,3,4]\n",
    "for x in my_list:\n",
    "    for y in my_list: \n",
    "        pairs=[x,y]\n",
    "        print (pairs)\n"
   ]
  }
 ],
 "metadata": {
  "kernelspec": {
   "display_name": "Python 3 (ipykernel)",
   "language": "python",
   "name": "python3"
  },
  "language_info": {
   "codemirror_mode": {
    "name": "ipython",
    "version": 3
   },
   "file_extension": ".py",
   "mimetype": "text/x-python",
   "name": "python",
   "nbconvert_exporter": "python",
   "pygments_lexer": "ipython3",
   "version": "3.11.5"
  }
 },
 "nbformat": 4,
 "nbformat_minor": 5
}
